{
    "nbformat_minor": 1, 
    "cells": [
        {
            "source": "# Capstone Project- Data Science\n", 
            "cell_type": "markdown", 
            "metadata": {
                "collapsed": true
            }
        }, 
        {
            "source": "import pandas as pd\nimport numpy as np\nimport requests\n# !pip install wikipedia\n# import wikipedia as wiki\n# !pip install geopy.extra\nfrom bs4 import BeautifulSoup\nfrom geopy.geocoders import Nominatim", 
            "cell_type": "code", 
            "metadata": {}, 
            "outputs": [], 
            "execution_count": 3
        }, 
        {
            "source": "print('Hello Capstone project Course')", 
            "cell_type": "code", 
            "metadata": {}, 
            "outputs": [
                {
                    "output_type": "stream", 
                    "name": "stdout", 
                    "text": "Hello Capstone project Course\n"
                }
            ], 
            "execution_count": 4
        }, 
        {
            "source": "# TriCity Poland\n\nMy project looks at grouping similar living areas across the various districts in the TriCity.", 
            "cell_type": "markdown", 
            "metadata": {}
        }, 
        {
            "source": "# District names take from Wikipideda\n\ngdansk_districts=['Osowa','Oliwa','\u017babianka, Jelitkowo','Przymorze Ma\u0142e','Przymorze Wielkie','VII Dw\u00f3r','Strzy\u017ca',\n                  'Zaspa-M\u0142yniec','Zaspa-Rozstaje','Brze\u017ano','Matarnia','Br\u0119towo','Wrzeszcz Dolny','Wrzeszcz G\u00f3rny',\n                  'Letnica','Nowy Port','Piecki-Migowo','Suchanino','Siedlce','Wzg\u00f3rze Mickiewicza','Anio\u0142ki','M\u0142yniska',\n                  'Stogi','Przer\u00f3bk\u0105','\u015ar\u00f3dmie\u015bcie','Krakowiec-G\u00f3rki Zachodnie','Wyspa Sobieszewska','Kokoszki','Che\u0142m',\n                  'Uje\u015bcisko-\u0141ostowice','Jasie\u0144','Orunia-\u015aw. Wojciech-Lipce','Olszynka','Rudniki']\n\nsopot_districts=['Sopot Centrum','Karlikowo','Kamienny Potok','Przylesie','Dolny Sopot Grunwaldzka','Dolny Sopot Haffnera',\n                 'Lisie Wzg\u00f3rze','Zaj\u0119cze Wzg\u00f3rze','G\u00f3rny Sopot','Brodwino','Osiedle Mickiewicza','\u015awiemirowo','Stawowie',\n                 'Le\u015bna Polana\\Gr\u0119zowo','Centrum Po\u0142udnie \u2013 Ko\u015bciuszki','Sopocki Las']\n\ngdynia_districts=['Babie Do\u0142y', 'Chwarzno-Wiczlino', 'Chylonia', 'Cisowa', 'D\u0105browa', 'Dzia\u0142ki Le\u015bne', 'Grab\u00f3wek', \n                  'Kamienna G\u00f3ra', 'Karwiny', 'Leszczynki', 'Ma\u0142y Kack', 'Ob\u0142u\u017ce', 'Oksywie', 'Or\u0142owo', 'Pog\u00f3rze', 'Pustki Cisowskie-Demptowo', \n                  'Red\u0142owo', '\u015ar\u00f3dmie\u015bcie', 'Wielki Kack', 'Witomino-Le\u015bnicz\u00f3wka', 'Witomino-Radiostacja', 'Wzg\u00f3rze \u015aw. Maksymiliana']\n\ndf=pd.DataFrame()\n\ndf_gdansk=pd.DataFrame(columns=['District'])\ndf_sopot=pd.DataFrame(columns=['District'])\ndf_gdynia=pd.DataFrame(columns=['District'])", 
            "cell_type": "code", 
            "metadata": {}, 
            "outputs": [], 
            "execution_count": 5
        }, 
        {
            "source": "df_gdansk['District']=gdansk_districts\ndf_sopot['District']=sopot_districts\ndf_gdynia['District']=gdynia_districts", 
            "cell_type": "code", 
            "metadata": {}, 
            "outputs": [], 
            "execution_count": 6
        }, 
        {
            "source": "df_sopot.head()", 
            "cell_type": "code", 
            "metadata": {}, 
            "outputs": [
                {
                    "output_type": "execute_result", 
                    "data": {
                        "text/plain": "                  District\n0            Sopot Centrum\n1                Karlikowo\n2           Kamienny Potok\n3                Przylesie\n4  Dolny Sopot Grunwaldzka", 
                        "text/html": "<div>\n<style scoped>\n    .dataframe tbody tr th:only-of-type {\n        vertical-align: middle;\n    }\n\n    .dataframe tbody tr th {\n        vertical-align: top;\n    }\n\n    .dataframe thead th {\n        text-align: right;\n    }\n</style>\n<table border=\"1\" class=\"dataframe\">\n  <thead>\n    <tr style=\"text-align: right;\">\n      <th></th>\n      <th>District</th>\n    </tr>\n  </thead>\n  <tbody>\n    <tr>\n      <th>0</th>\n      <td>Sopot Centrum</td>\n    </tr>\n    <tr>\n      <th>1</th>\n      <td>Karlikowo</td>\n    </tr>\n    <tr>\n      <th>2</th>\n      <td>Kamienny Potok</td>\n    </tr>\n    <tr>\n      <th>3</th>\n      <td>Przylesie</td>\n    </tr>\n    <tr>\n      <th>4</th>\n      <td>Dolny Sopot Grunwaldzka</td>\n    </tr>\n  </tbody>\n</table>\n</div>"
                    }, 
                    "execution_count": 7, 
                    "metadata": {}
                }
            ], 
            "execution_count": 7
        }, 
        {
            "source": "df=df.append(sopot_districts)\ndf=df.append(gdansk_districts)\ndf=df.append(gdynia_districts)\n\ndf.rename(columns={0:'Districts'},inplace=True)    \n\ndf.reset_index(drop=True,inplace=True)\n\n", 
            "cell_type": "code", 
            "metadata": {}, 
            "outputs": [], 
            "execution_count": 8
        }, 
        {
            "source": "df['Latitude']='default'\ndf['Longitude']='default'", 
            "cell_type": "code", 
            "metadata": {}, 
            "outputs": [], 
            "execution_count": 9
        }, 
        {
            "source": "k=[]\nfor i in range(len(df['Districts'])):\n    address=df['Districts'][i]+', Poland'\n    location=None\n    while location is None :\n            geolocator=Nominatim(user_agent='Capstone')\n            location=geolocator.geocode(address)\n    df['Latitude'][i]=location.latitude\n    df['Longitude'][i]=location.longitude", 
            "cell_type": "code", 
            "metadata": {
                "scrolled": false
            }, 
            "outputs": [], 
            "execution_count": 19
        }, 
        {
            "source": "df.head()", 
            "cell_type": "code", 
            "metadata": {}, 
            "outputs": [
                {
                    "output_type": "execute_result", 
                    "data": {
                        "text/plain": "                 Districts Latitude Longitude\n0            Sopot Centrum  54.4414   18.5623\n1                Karlikowo  54.7373   18.1497\n2           Kamienny Potok  54.4573   18.5296\n3                Przylesie   54.324   17.9489\n4  Dolny Sopot Grunwaldzka   54.444     18.57", 
                        "text/html": "<div>\n<style scoped>\n    .dataframe tbody tr th:only-of-type {\n        vertical-align: middle;\n    }\n\n    .dataframe tbody tr th {\n        vertical-align: top;\n    }\n\n    .dataframe thead th {\n        text-align: right;\n    }\n</style>\n<table border=\"1\" class=\"dataframe\">\n  <thead>\n    <tr style=\"text-align: right;\">\n      <th></th>\n      <th>Districts</th>\n      <th>Latitude</th>\n      <th>Longitude</th>\n    </tr>\n  </thead>\n  <tbody>\n    <tr>\n      <th>0</th>\n      <td>Sopot Centrum</td>\n      <td>54.4414</td>\n      <td>18.5623</td>\n    </tr>\n    <tr>\n      <th>1</th>\n      <td>Karlikowo</td>\n      <td>54.7373</td>\n      <td>18.1497</td>\n    </tr>\n    <tr>\n      <th>2</th>\n      <td>Kamienny Potok</td>\n      <td>54.4573</td>\n      <td>18.5296</td>\n    </tr>\n    <tr>\n      <th>3</th>\n      <td>Przylesie</td>\n      <td>54.324</td>\n      <td>17.9489</td>\n    </tr>\n    <tr>\n      <th>4</th>\n      <td>Dolny Sopot Grunwaldzka</td>\n      <td>54.444</td>\n      <td>18.57</td>\n    </tr>\n  </tbody>\n</table>\n</div>"
                    }, 
                    "execution_count": 26, 
                    "metadata": {}
                }
            ], 
            "execution_count": 26
        }, 
        {
            "source": "#Download and save the file for futre use in case the geopy doesn't work\n\nfrom IPython.display import HTML\nimport base64  \nimport pandas as pd  \n\ndef create_download_link( df, title = \"Download CSV file\", filename = \"data.csv\"):  \n    csv = df.to_csv(index =False)\n    b64 = base64.b64encode(csv.encode())\n    payload = b64.decode()\n    html = '<a download=\"{filename}\" href=\"data:text/csv;base64,{payload}\" target=\"_blank\">{title}</a>'\n    html = html.format(payload=payload,title=title,filename=filename)\n    return HTML(html)\n\ncreate_download_link(df)", 
            "cell_type": "code", 
            "metadata": {}, 
            "outputs": [
                {
                    "output_type": "execute_result", 
                    "data": {
                        "text/plain": "<IPython.core.display.HTML object>", 
                        "text/html": "<a download=\"data.csv\" href=\"data:text/csv;base64,RGlzdHJpY3RzLExhdGl0dWRlLExvbmdpdHVkZQpTb3BvdCBDZW50cnVtLDU0LjQ0MTM2OSwxOC41NjIyNTg1NjUyNTM4Ckthcmxpa293byw1NC43MzczMDg1LDE4LjE0OTc0OTQKS2FtaWVubnkgUG90b2ssNTQuNDU3MjUxNywxOC41Mjk2MTk4ClByenlsZXNpZSw1NC4zMjQwMzM1LDE3Ljk0ODkwMwpEb2xueSBTb3BvdCBHcnVud2FsZHprYSw1NC40NDQwMjQ2LDE4LjU2OTk3NTMKRG9sbnkgU29wb3QgSGFmZm5lcmEsNTQuNDU0OTYxMiwxOC41NTk1Njk1Ckxpc2llIFd6Z8OzcnplLDU0LjQ0ODA2MzEsMTguNTUxMzA5MgpaYWrEmWN6ZSBXemfDs3J6ZSw1NC40MzM1OTg1LDE4LjU0ODgyNDMKR8Ozcm55IFNvcG90LDU0LjQ0NDc5MjIsMTguNTY4NDkwMgpCcm9kd2lubyw1NC40NTY3OTY4NSwxOC41MzIyMzg2NDUzOTUzCk9zaWVkbGUgTWlja2lld2ljemEsNTEuMjQxODQ5MSwyMi41MjY1NDkKxZp3aWVtaXJvd28sNTQuNDI4NTUwMiwxOC41NTU2NTAzClN0YXdvd2llLGRlZmF1bHQsZGVmYXVsdApMZcWbbmEgUG9sYW5hXEdyxJl6b3dvLDU0LjQzNjgxODYsMTguNTEyNTI4MgpDZW50cnVtIFBvxYJ1ZG5pZSDigJMgS2/Fm2NpdXN6a2ksNTQuMDM2OTU1OSwxOS4wMzM5MjIyClNvcG9ja2kgTGFzLDUwLjQ1Nzk2ODksMjMuMTc1ODU3NApPc293YSw1MS40MjcxNDE2LDIzLjUwMTM2ODkKT2xpd2EsNTQuNDA2MTU5NiwxOC41Mzc4NTI1CiLFu2FiaWFua2EsIEplbGl0a293byIsNTQuNDIwMTE5NywxOC41NzU2MTUzClByenltb3J6ZSBNYcWCZSw1NC40MDc5NjQzLDE4LjU4MDI3MzkKUHJ6eW1vcnplIFdpZWxraWUsNTQuNDExNzI0NSwxOC42MDA5NDI1ClZJSSBEd8Ozciw1NC4zODc0MzA1LDE4LjU1OTY3NzgKU3RyennFvGEsNTQuMzgyMTcwMiwxOC42MTIwNzczClphc3BhLU3FgnluaWVjLGRlZmF1bHQsZGVmYXVsdApaYXNwYS1Sb3pzdGFqZSw1NC4zOTg4NjEzLDE4LjYwNzQ0OTUKQnJ6ZcW6bm8sNTQuNDA0ODQxOSwxOC42MzEwMzk4Ck1hdGFybmlhLDU0LjM4MTczMDcsMTguNDgzNTU5NApCcsSZdG93byw1NC4zNjkyMDE5LDE4LjU0ODg4MQpXcnplc3pjeiBEb2xueSw1NC4zODc4OTU2LDE4LjYxOTQ5MjcKV3J6ZXN6Y3ogR8Ozcm55LDU0LjM3NTEwOTksMTguNTk1OTIxNApMZXRuaWNhLDU0LjM5MDgzMDg1LDE4LjY1MzIzMDE2MjExMwpOb3d5IFBvcnQsNTQuNDAxNjIyMjUsMTguNjY3MTIxMzY0MTIzNwpQaWVja2ktTWlnb3dvLDU0LjM1Nzg0MzcsMTguNTgwMjY4MQpTdWNoYW5pbm8sNTQuMzU2NTY2MSwxOC42MDU2MzAzClNpZWRsY2UsNTIuMTY2Mzc1MSwyMi4yNzY1MTM4Cld6Z8OzcnplIE1pY2tpZXdpY3phLDU0LjM0MzkyNDgsMTguNjA5MjUyNgpBbmlvxYJraSw1NC4zNjQzMzY4LDE4LjYyODA2NDEKTcWCeW5pc2thLDU0LjM3MDgwNTEsMTguNjQ4Mjg5ClN0b2dpLDU0LjM3MzkwMjIsMTguNzAzMTE4NQpQcnplcsOzYmvEhSw1NC4zODIxNTQ4LDE4LjY3MTU2ODQKxZpyw7NkbWllxZtjaWUsNTIuMjMyODA5OCwyMS4wMTkwNjcKS3Jha293aWVjLUfDs3JraSBaYWNob2RuaWUsNTQuMzYyNDM3NSwxOC43NTQyMDkzCld5c3BhIFNvYmllc3pld3NrYSw1NC4zMzU3ODk4LDE4Ljg3MTk0NDkKS29rb3N6a2ksNTQuMzUwODAyOSwxOC40OTI0NjU5MTAwNDg1CkNoZcWCbSw1MS4xMzQ2ODIsMjMuNDgxNzMwMgpVamXFm2Npc2tvLcWBb3N0b3dpY2UsNTQuMzMxMDI4NiwxOC41ODQ0NDk5Ckphc2llxYQsNTEuNzUxNTQ0MiwxNS4wMTIzMzUxCk9ydW5pYS3FmncuIFdvamNpZWNoLUxpcGNlLDU0LjMyMzkwMzQsMTguNjMyOTM4OApPbHN6eW5rYSw0OS45NzIwODAyLDE5LjkwNTE4NApSdWRuaWtpLDU0LjAxNTY1LDE3LjUxMjQyCkJhYmllIERvxYJ5LDU0LjU3MTU5Mjc1LDE4LjU0Mjc4NTUzMjIzODkKQ2h3YXJ6bm8tV2ljemxpbm8sNTQuNTAyMDQ5NiwxOC40MTkyNzI3ODk3NTM3CkNoeWxvbmlhLDU0LjU0MzM1MDU1LDE4LjQ3MzcyMTcwNzQ5NjYKQ2lzb3dhLDQ5LjcwODQ5NTMsMjIuNjIwMTQzOQpExIVicm93YSw1My40MDgwMjczNSwyMC4yMDcyMjI1NTUxODg2CkR6aWHFgmtpIExlxZtuZSw1NC41MTQwNDY3LDE4LjUyMDMxMjY4MTAxODYKR3JhYsOzd2VrLGRlZmF1bHQsZGVmYXVsdApLYW1pZW5uYSBHw7NyYSw1MC43ODM3MzYxLDE2LjAzMzY2MzEKS2Fyd2lueSw1NC40ODA2MDg0NSwxOC40ODE4MTcxOTI0NTU1Ckxlc3pjenlua2ksNTEuMDAyNTkwNSwxNS4zMDkxNjU4Ck1hxYJ5IEthY2ssNTQuNDc2NDIzODUsMTguNTE3MzQ1Mjg5MDQxMwpPYsWCdcW8ZSw1NC41NTg4MTcxLDE4LjUxNjExMDI4MDM1MjIKT2tzeXdpZSw1NC41NDgzNzYsMTguNTQwOTE4MTEzMjA1OQpPcsWCb3dvLDU0LjQ3NDA2ODQsMTguNTUxNTU4NDQ5MjMyNgpQb2fDs3J6ZSw1NC41NTc5NTY0NSwxOC40ODEzMTEyNjIyMDEyClB1c3RraSBDaXNvd3NraWUtRGVtcHRvd28sNTQuNTM0NDcsMTguNDUyOTA4OApSZWTFgm93byw1NC40OTI2ODU3NSwxOC41NTExNDcwMzQxMTk0CsWacsOzZG1pZcWbY2llLDUyLjIzMjgwOTgsMjEuMDE5MDY3CldpZWxraSBLYWNrLDU0LjQ0NzQzNjUsMTguNDc2NTY4NTAxNTg0NQpXaXRvbWluby1MZcWbbmljesOzd2thLDU0LjQ5MjY0NzMsMTguNTEwNjYxMgpXaXRvbWluby1SYWRpb3N0YWNqYSw1NC40OTk2NTY3LDE4LjUxNTgwNzkKV3pnw7NyemUgxZp3LiBNYWtzeW1pbGlhbmEsNTQuNTAyOTY0NiwxOC41NDMyNzk2OTkyNjQK\" target=\"_blank\">Download CSV file</a>"
                    }, 
                    "execution_count": 25, 
                    "metadata": {}
                }
            ], 
            "execution_count": 25
        }, 
        {
            "source": "", 
            "cell_type": "code", 
            "metadata": {}, 
            "outputs": [], 
            "execution_count": null
        }, 
        {
            "source": "", 
            "cell_type": "code", 
            "metadata": {}, 
            "outputs": [], 
            "execution_count": null
        }
    ], 
    "metadata": {
        "kernelspec": {
            "display_name": "Python 3.5", 
            "name": "python3", 
            "language": "python"
        }, 
        "language_info": {
            "mimetype": "text/x-python", 
            "nbconvert_exporter": "python", 
            "version": "3.5.5", 
            "name": "python", 
            "pygments_lexer": "ipython3", 
            "file_extension": ".py", 
            "codemirror_mode": {
                "version": 3, 
                "name": "ipython"
            }
        }
    }, 
    "nbformat": 4
}