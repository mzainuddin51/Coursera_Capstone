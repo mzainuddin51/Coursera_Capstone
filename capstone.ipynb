{
    "nbformat_minor": 1, 
    "cells": [
        {
            "source": "# Capstone Project- Data Science\n", 
            "cell_type": "markdown", 
            "metadata": {
                "collapsed": true
            }
        }, 
        {
            "source": "import pandas as pd\nimport numpy as np\nimport requests\n# !pip install wikipedia\n# import wikipedia as wiki\n# !pip install geopy.extra\nfrom bs4 import BeautifulSoup\nfrom geopy.geocoders import Nominatim", 
            "cell_type": "code", 
            "metadata": {}, 
            "outputs": [], 
            "execution_count": 17
        }, 
        {
            "source": "print('Hello Capstone project Course')", 
            "cell_type": "code", 
            "metadata": {}, 
            "outputs": [
                {
                    "output_type": "stream", 
                    "name": "stdout", 
                    "text": "Hello Capstone project Course\n"
                }
            ], 
            "execution_count": 18
        }, 
        {
            "source": "# TriCity Poland\n\nMy project looks at grouping similar living areas across the various districts in the TriCity.", 
            "cell_type": "markdown", 
            "metadata": {}
        }, 
        {
            "source": "# District names take from Wikipideda\n\ngdansk_districts=['Osowa','Oliwa','\u017babianka, Jelitkowo','Przymorze Ma\u0142e','Przymorze Wielkie','VII Dw\u00f3r','Strzy\u017ca',\n                  'Zaspa-M\u0142yniec','Zaspa-Rozstaje','Brze\u017ano','Matarnia','Br\u0119towo','Wrzeszcz Dolny','Wrzeszcz G\u00f3rny',\n                  'Letnica','Nowy Port','Piecki-Migowo','Suchanino','Siedlce','Wzg\u00f3rze Mickiewicza','Anio\u0142ki','M\u0142yniska',\n                  'Stogi','Przer\u00f3bk\u0105','\u015ar\u00f3dmie\u015bcie','Krakowiec-G\u00f3rki Zachodnie','Wyspa Sobieszewska','Kokoszki','Che\u0142m',\n                  'Uje\u015bcisko-\u0141ostowice','Jasie\u0144','Orunia-\u015aw. Wojciech-Lipce','Olszynka','Rudniki']\n\nsopot_districts=['Sopot Centrum','Karlikowo','Kamienny Potok','Przylesie','Dolny Sopot Grunwaldzka','Dolny Sopot Haffnera',\n                 'Lisie Wzg\u00f3rze','Zaj\u0119cze Wzg\u00f3rze','G\u00f3rny Sopot','Brodwino','Osiedle Mickiewicza','\u015awiemirowo','Stawowie',\n                 'Le\u015bna Polana\\Gr\u0119zowo','Centrum Po\u0142udnie \u2013 Ko\u015bciuszki','Sopocki Las']\n\ngdynia_districts=['Babie Do\u0142y', 'Chwarzno-Wiczlino', 'Chylonia', 'Cisowa', 'D\u0105browa', 'Dzia\u0142ki Le\u015bne', 'Grab\u00f3wek', \n                  'Kamienna G\u00f3ra', 'Karwiny', 'Leszczynki', 'Ma\u0142y Kack', 'Ob\u0142u\u017ce', 'Oksywie', 'Or\u0142owo', 'Pog\u00f3rze', 'Pustki Cisowskie-Demptowo', \n                  'Red\u0142owo', '\u015ar\u00f3dmie\u015bcie', 'Wielki Kack', 'Witomino-Le\u015bnicz\u00f3wka', 'Witomino-Radiostacja', 'Wzg\u00f3rze \u015aw. Maksymiliana']\n\ndf=pd.DataFrame()\n\ndf_gdansk=pd.DataFrame(columns=['District'])\ndf_sopot=pd.DataFrame(columns=['District'])\ndf_gdynia=pd.DataFrame(columns=['District'])", 
            "cell_type": "code", 
            "metadata": {}, 
            "outputs": [], 
            "execution_count": 19
        }, 
        {
            "source": "df_gdansk['District']=gdansk_districts\ndf_sopot['District']=sopot_districts\ndf_gdynia['District']=gdynia_districts", 
            "cell_type": "code", 
            "metadata": {}, 
            "outputs": [], 
            "execution_count": 20
        }, 
        {
            "source": "df_sopot.head()", 
            "cell_type": "code", 
            "metadata": {}, 
            "outputs": [
                {
                    "output_type": "execute_result", 
                    "data": {
                        "text/html": "<div>\n<style scoped>\n    .dataframe tbody tr th:only-of-type {\n        vertical-align: middle;\n    }\n\n    .dataframe tbody tr th {\n        vertical-align: top;\n    }\n\n    .dataframe thead th {\n        text-align: right;\n    }\n</style>\n<table border=\"1\" class=\"dataframe\">\n  <thead>\n    <tr style=\"text-align: right;\">\n      <th></th>\n      <th>District</th>\n    </tr>\n  </thead>\n  <tbody>\n    <tr>\n      <th>0</th>\n      <td>Sopot Centrum</td>\n    </tr>\n    <tr>\n      <th>1</th>\n      <td>Karlikowo</td>\n    </tr>\n    <tr>\n      <th>2</th>\n      <td>Kamienny Potok</td>\n    </tr>\n    <tr>\n      <th>3</th>\n      <td>Przylesie</td>\n    </tr>\n    <tr>\n      <th>4</th>\n      <td>Dolny Sopot Grunwaldzka</td>\n    </tr>\n  </tbody>\n</table>\n</div>", 
                        "text/plain": "                  District\n0            Sopot Centrum\n1                Karlikowo\n2           Kamienny Potok\n3                Przylesie\n4  Dolny Sopot Grunwaldzka"
                    }, 
                    "execution_count": 21, 
                    "metadata": {}
                }
            ], 
            "execution_count": 21
        }, 
        {
            "source": "df=df.append(sopot_districts)\ndf=df.append(gdansk_districts)\ndf=df.append(gdynia_districts)\n\ndf.rename(columns={0:'Districts'},inplace=True)    \n\ndf.reset_index(drop=True,inplace=True)\n\n", 
            "cell_type": "code", 
            "metadata": {}, 
            "outputs": [], 
            "execution_count": 22
        }, 
        {
            "source": "df['Latitude']='default'\ndf['Longitude']='default'", 
            "cell_type": "code", 
            "metadata": {}, 
            "outputs": [], 
            "execution_count": 23
        }, 
        {
            "source": "for i in range(len(df['Districts'])):\n    address=df['Districts'][i]+', Poland'\n    location=None\n    while location is None :\n        geolocator=Nominatim(user_agent='Capstone')\n        location=geolocator.geocode(address)\n    df['Latitude'][i]=location.latitude\n    df['Longitude'][i]=location.longitude", 
            "cell_type": "code", 
            "metadata": {
                "scrolled": false
            }, 
            "outputs": [
                {
                    "output_type": "error", 
                    "evalue": "HTTP Error 429: Too Many Requests", 
                    "traceback": [
                        "\u001b[0;31m---------------------------------------------------------------------------\u001b[0m", 
                        "\u001b[0;31mHTTPError\u001b[0m                                 Traceback (most recent call last)", 
                        "\u001b[0;32m/opt/conda/envs/DSX-Python35/lib/python3.5/site-packages/geopy/geocoders/base.py\u001b[0m in \u001b[0;36m_call_geocoder\u001b[0;34m(self, url, timeout, raw, requester, deserializer, **kwargs)\u001b[0m\n\u001b[1;32m    142\u001b[0m         \u001b[0;32mtry\u001b[0m\u001b[0;34m:\u001b[0m\u001b[0;34m\u001b[0m\u001b[0m\n\u001b[0;32m--> 143\u001b[0;31m             \u001b[0mpage\u001b[0m \u001b[0;34m=\u001b[0m \u001b[0mrequester\u001b[0m\u001b[0;34m(\u001b[0m\u001b[0mreq\u001b[0m\u001b[0;34m,\u001b[0m \u001b[0mtimeout\u001b[0m\u001b[0;34m=\u001b[0m\u001b[0;34m(\u001b[0m\u001b[0mtimeout\u001b[0m \u001b[0;32mor\u001b[0m \u001b[0mself\u001b[0m\u001b[0;34m.\u001b[0m\u001b[0mtimeout\u001b[0m\u001b[0;34m)\u001b[0m\u001b[0;34m,\u001b[0m \u001b[0;34m**\u001b[0m\u001b[0mkwargs\u001b[0m\u001b[0;34m)\u001b[0m\u001b[0;34m\u001b[0m\u001b[0m\n\u001b[0m\u001b[1;32m    144\u001b[0m         \u001b[0;32mexcept\u001b[0m \u001b[0mException\u001b[0m \u001b[0;32mas\u001b[0m \u001b[0merror\u001b[0m\u001b[0;34m:\u001b[0m \u001b[0;31m# pylint: disable=W0703\u001b[0m\u001b[0;34m\u001b[0m\u001b[0m\n", 
                        "\u001b[0;32m/opt/conda/envs/DSX-Python35/lib/python3.5/urllib/request.py\u001b[0m in \u001b[0;36murlopen\u001b[0;34m(url, data, timeout, cafile, capath, cadefault, context)\u001b[0m\n\u001b[1;32m    162\u001b[0m         \u001b[0mopener\u001b[0m \u001b[0;34m=\u001b[0m \u001b[0m_opener\u001b[0m\u001b[0;34m\u001b[0m\u001b[0m\n\u001b[0;32m--> 163\u001b[0;31m     \u001b[0;32mreturn\u001b[0m \u001b[0mopener\u001b[0m\u001b[0;34m.\u001b[0m\u001b[0mopen\u001b[0m\u001b[0;34m(\u001b[0m\u001b[0murl\u001b[0m\u001b[0;34m,\u001b[0m \u001b[0mdata\u001b[0m\u001b[0;34m,\u001b[0m \u001b[0mtimeout\u001b[0m\u001b[0;34m)\u001b[0m\u001b[0;34m\u001b[0m\u001b[0m\n\u001b[0m\u001b[1;32m    164\u001b[0m \u001b[0;34m\u001b[0m\u001b[0m\n", 
                        "\u001b[0;32m/opt/conda/envs/DSX-Python35/lib/python3.5/urllib/request.py\u001b[0m in \u001b[0;36mopen\u001b[0;34m(self, fullurl, data, timeout)\u001b[0m\n\u001b[1;32m    471\u001b[0m             \u001b[0mmeth\u001b[0m \u001b[0;34m=\u001b[0m \u001b[0mgetattr\u001b[0m\u001b[0;34m(\u001b[0m\u001b[0mprocessor\u001b[0m\u001b[0;34m,\u001b[0m \u001b[0mmeth_name\u001b[0m\u001b[0;34m)\u001b[0m\u001b[0;34m\u001b[0m\u001b[0m\n\u001b[0;32m--> 472\u001b[0;31m             \u001b[0mresponse\u001b[0m \u001b[0;34m=\u001b[0m \u001b[0mmeth\u001b[0m\u001b[0;34m(\u001b[0m\u001b[0mreq\u001b[0m\u001b[0;34m,\u001b[0m \u001b[0mresponse\u001b[0m\u001b[0;34m)\u001b[0m\u001b[0;34m\u001b[0m\u001b[0m\n\u001b[0m\u001b[1;32m    473\u001b[0m \u001b[0;34m\u001b[0m\u001b[0m\n", 
                        "\u001b[0;32m/opt/conda/envs/DSX-Python35/lib/python3.5/urllib/request.py\u001b[0m in \u001b[0;36mhttp_response\u001b[0;34m(self, request, response)\u001b[0m\n\u001b[1;32m    581\u001b[0m             response = self.parent.error(\n\u001b[0;32m--> 582\u001b[0;31m                 'http', request, response, code, msg, hdrs)\n\u001b[0m\u001b[1;32m    583\u001b[0m \u001b[0;34m\u001b[0m\u001b[0m\n", 
                        "\u001b[0;32m/opt/conda/envs/DSX-Python35/lib/python3.5/urllib/request.py\u001b[0m in \u001b[0;36merror\u001b[0;34m(self, proto, *args)\u001b[0m\n\u001b[1;32m    509\u001b[0m             \u001b[0margs\u001b[0m \u001b[0;34m=\u001b[0m \u001b[0;34m(\u001b[0m\u001b[0mdict\u001b[0m\u001b[0;34m,\u001b[0m \u001b[0;34m'default'\u001b[0m\u001b[0;34m,\u001b[0m \u001b[0;34m'http_error_default'\u001b[0m\u001b[0;34m)\u001b[0m \u001b[0;34m+\u001b[0m \u001b[0morig_args\u001b[0m\u001b[0;34m\u001b[0m\u001b[0m\n\u001b[0;32m--> 510\u001b[0;31m             \u001b[0;32mreturn\u001b[0m \u001b[0mself\u001b[0m\u001b[0;34m.\u001b[0m\u001b[0m_call_chain\u001b[0m\u001b[0;34m(\u001b[0m\u001b[0;34m*\u001b[0m\u001b[0margs\u001b[0m\u001b[0;34m)\u001b[0m\u001b[0;34m\u001b[0m\u001b[0m\n\u001b[0m\u001b[1;32m    511\u001b[0m \u001b[0;34m\u001b[0m\u001b[0m\n", 
                        "\u001b[0;32m/opt/conda/envs/DSX-Python35/lib/python3.5/urllib/request.py\u001b[0m in \u001b[0;36m_call_chain\u001b[0;34m(self, chain, kind, meth_name, *args)\u001b[0m\n\u001b[1;32m    443\u001b[0m             \u001b[0mfunc\u001b[0m \u001b[0;34m=\u001b[0m \u001b[0mgetattr\u001b[0m\u001b[0;34m(\u001b[0m\u001b[0mhandler\u001b[0m\u001b[0;34m,\u001b[0m \u001b[0mmeth_name\u001b[0m\u001b[0;34m)\u001b[0m\u001b[0;34m\u001b[0m\u001b[0m\n\u001b[0;32m--> 444\u001b[0;31m             \u001b[0mresult\u001b[0m \u001b[0;34m=\u001b[0m \u001b[0mfunc\u001b[0m\u001b[0;34m(\u001b[0m\u001b[0;34m*\u001b[0m\u001b[0margs\u001b[0m\u001b[0;34m)\u001b[0m\u001b[0;34m\u001b[0m\u001b[0m\n\u001b[0m\u001b[1;32m    445\u001b[0m             \u001b[0;32mif\u001b[0m \u001b[0mresult\u001b[0m \u001b[0;32mis\u001b[0m \u001b[0;32mnot\u001b[0m \u001b[0;32mNone\u001b[0m\u001b[0;34m:\u001b[0m\u001b[0;34m\u001b[0m\u001b[0m\n", 
                        "\u001b[0;32m/opt/conda/envs/DSX-Python35/lib/python3.5/urllib/request.py\u001b[0m in \u001b[0;36mhttp_error_default\u001b[0;34m(self, req, fp, code, msg, hdrs)\u001b[0m\n\u001b[1;32m    589\u001b[0m     \u001b[0;32mdef\u001b[0m \u001b[0mhttp_error_default\u001b[0m\u001b[0;34m(\u001b[0m\u001b[0mself\u001b[0m\u001b[0;34m,\u001b[0m \u001b[0mreq\u001b[0m\u001b[0;34m,\u001b[0m \u001b[0mfp\u001b[0m\u001b[0;34m,\u001b[0m \u001b[0mcode\u001b[0m\u001b[0;34m,\u001b[0m \u001b[0mmsg\u001b[0m\u001b[0;34m,\u001b[0m \u001b[0mhdrs\u001b[0m\u001b[0;34m)\u001b[0m\u001b[0;34m:\u001b[0m\u001b[0;34m\u001b[0m\u001b[0m\n\u001b[0;32m--> 590\u001b[0;31m         \u001b[0;32mraise\u001b[0m \u001b[0mHTTPError\u001b[0m\u001b[0;34m(\u001b[0m\u001b[0mreq\u001b[0m\u001b[0;34m.\u001b[0m\u001b[0mfull_url\u001b[0m\u001b[0;34m,\u001b[0m \u001b[0mcode\u001b[0m\u001b[0;34m,\u001b[0m \u001b[0mmsg\u001b[0m\u001b[0;34m,\u001b[0m \u001b[0mhdrs\u001b[0m\u001b[0;34m,\u001b[0m \u001b[0mfp\u001b[0m\u001b[0;34m)\u001b[0m\u001b[0;34m\u001b[0m\u001b[0m\n\u001b[0m\u001b[1;32m    591\u001b[0m \u001b[0;34m\u001b[0m\u001b[0m\n", 
                        "\u001b[0;31mHTTPError\u001b[0m: HTTP Error 429: Too Many Requests", 
                        "\nDuring handling of the above exception, another exception occurred:\n", 
                        "\u001b[0;31mKeyError\u001b[0m                                  Traceback (most recent call last)", 
                        "\u001b[0;32m/opt/conda/envs/DSX-Python35/lib/python3.5/site-packages/geopy/geocoders/base.py\u001b[0m in \u001b[0;36m_call_geocoder\u001b[0;34m(self, url, timeout, raw, requester, deserializer, **kwargs)\u001b[0m\n\u001b[1;32m    157\u001b[0m                 \u001b[0;32mtry\u001b[0m\u001b[0;34m:\u001b[0m\u001b[0;34m\u001b[0m\u001b[0m\n\u001b[0;32m--> 158\u001b[0;31m                     \u001b[0;32mraise\u001b[0m \u001b[0mERROR_CODE_MAP\u001b[0m\u001b[0;34m[\u001b[0m\u001b[0mcode\u001b[0m\u001b[0;34m]\u001b[0m\u001b[0;34m(\u001b[0m\u001b[0mmessage\u001b[0m\u001b[0;34m)\u001b[0m\u001b[0;34m\u001b[0m\u001b[0m\n\u001b[0m\u001b[1;32m    159\u001b[0m                 \u001b[0;32mexcept\u001b[0m \u001b[0mKeyError\u001b[0m\u001b[0;34m:\u001b[0m\u001b[0;34m\u001b[0m\u001b[0m\n", 
                        "\u001b[0;31mKeyError\u001b[0m: 429", 
                        "\nDuring handling of the above exception, another exception occurred:\n", 
                        "\u001b[0;31mGeocoderServiceError\u001b[0m                      Traceback (most recent call last)", 
                        "\u001b[0;32m<ipython-input-30-f12c504fbdc4>\u001b[0m in \u001b[0;36m<module>\u001b[0;34m()\u001b[0m\n\u001b[1;32m      4\u001b[0m     \u001b[0;32mwhile\u001b[0m \u001b[0mlocation\u001b[0m \u001b[0;32mis\u001b[0m \u001b[0;32mNone\u001b[0m \u001b[0;34m:\u001b[0m\u001b[0;34m\u001b[0m\u001b[0m\n\u001b[1;32m      5\u001b[0m         \u001b[0mgeolocator\u001b[0m\u001b[0;34m=\u001b[0m\u001b[0mNominatim\u001b[0m\u001b[0;34m(\u001b[0m\u001b[0muser_agent\u001b[0m\u001b[0;34m=\u001b[0m\u001b[0;34m'Capstone'\u001b[0m\u001b[0;34m)\u001b[0m\u001b[0;34m\u001b[0m\u001b[0m\n\u001b[0;32m----> 6\u001b[0;31m         \u001b[0mlocation\u001b[0m\u001b[0;34m=\u001b[0m\u001b[0mgeolocator\u001b[0m\u001b[0;34m.\u001b[0m\u001b[0mgeocode\u001b[0m\u001b[0;34m(\u001b[0m\u001b[0maddress\u001b[0m\u001b[0;34m)\u001b[0m\u001b[0;34m\u001b[0m\u001b[0m\n\u001b[0m\u001b[1;32m      7\u001b[0m     \u001b[0mdf\u001b[0m\u001b[0;34m[\u001b[0m\u001b[0;34m'Latitude'\u001b[0m\u001b[0;34m]\u001b[0m\u001b[0;34m[\u001b[0m\u001b[0mi\u001b[0m\u001b[0;34m]\u001b[0m\u001b[0;34m=\u001b[0m\u001b[0mlocation\u001b[0m\u001b[0;34m.\u001b[0m\u001b[0mlatitude\u001b[0m\u001b[0;34m\u001b[0m\u001b[0m\n\u001b[1;32m      8\u001b[0m     \u001b[0mdf\u001b[0m\u001b[0;34m[\u001b[0m\u001b[0;34m'Longitude'\u001b[0m\u001b[0;34m]\u001b[0m\u001b[0;34m[\u001b[0m\u001b[0mi\u001b[0m\u001b[0;34m]\u001b[0m\u001b[0;34m=\u001b[0m\u001b[0mlocation\u001b[0m\u001b[0;34m.\u001b[0m\u001b[0mlongitude\u001b[0m\u001b[0;34m\u001b[0m\u001b[0m\n", 
                        "\u001b[0;32m/opt/conda/envs/DSX-Python35/lib/python3.5/site-packages/geopy/geocoders/osm.py\u001b[0m in \u001b[0;36mgeocode\u001b[0;34m(self, query, exactly_one, timeout, addressdetails, language, geometry)\u001b[0m\n\u001b[1;32m    191\u001b[0m         \u001b[0mlogger\u001b[0m\u001b[0;34m.\u001b[0m\u001b[0mdebug\u001b[0m\u001b[0;34m(\u001b[0m\u001b[0;34m\"%s.geocode: %s\"\u001b[0m\u001b[0;34m,\u001b[0m \u001b[0mself\u001b[0m\u001b[0;34m.\u001b[0m\u001b[0m__class__\u001b[0m\u001b[0;34m.\u001b[0m\u001b[0m__name__\u001b[0m\u001b[0;34m,\u001b[0m \u001b[0murl\u001b[0m\u001b[0;34m)\u001b[0m\u001b[0;34m\u001b[0m\u001b[0m\n\u001b[1;32m    192\u001b[0m         return self._parse_json(\n\u001b[0;32m--> 193\u001b[0;31m             \u001b[0mself\u001b[0m\u001b[0;34m.\u001b[0m\u001b[0m_call_geocoder\u001b[0m\u001b[0;34m(\u001b[0m\u001b[0murl\u001b[0m\u001b[0;34m,\u001b[0m \u001b[0mtimeout\u001b[0m\u001b[0;34m=\u001b[0m\u001b[0mtimeout\u001b[0m\u001b[0;34m)\u001b[0m\u001b[0;34m,\u001b[0m \u001b[0mexactly_one\u001b[0m\u001b[0;34m\u001b[0m\u001b[0m\n\u001b[0m\u001b[1;32m    194\u001b[0m         )\n\u001b[1;32m    195\u001b[0m \u001b[0;34m\u001b[0m\u001b[0m\n", 
                        "\u001b[0;32m/opt/conda/envs/DSX-Python35/lib/python3.5/site-packages/geopy/geocoders/base.py\u001b[0m in \u001b[0;36m_call_geocoder\u001b[0;34m(self, url, timeout, raw, requester, deserializer, **kwargs)\u001b[0m\n\u001b[1;32m    158\u001b[0m                     \u001b[0;32mraise\u001b[0m \u001b[0mERROR_CODE_MAP\u001b[0m\u001b[0;34m[\u001b[0m\u001b[0mcode\u001b[0m\u001b[0;34m]\u001b[0m\u001b[0;34m(\u001b[0m\u001b[0mmessage\u001b[0m\u001b[0;34m)\u001b[0m\u001b[0;34m\u001b[0m\u001b[0m\n\u001b[1;32m    159\u001b[0m                 \u001b[0;32mexcept\u001b[0m \u001b[0mKeyError\u001b[0m\u001b[0;34m:\u001b[0m\u001b[0;34m\u001b[0m\u001b[0m\n\u001b[0;32m--> 160\u001b[0;31m                     \u001b[0;32mraise\u001b[0m \u001b[0mGeocoderServiceError\u001b[0m\u001b[0;34m(\u001b[0m\u001b[0mmessage\u001b[0m\u001b[0;34m)\u001b[0m\u001b[0;34m\u001b[0m\u001b[0m\n\u001b[0m\u001b[1;32m    161\u001b[0m             \u001b[0;32melif\u001b[0m \u001b[0misinstance\u001b[0m\u001b[0;34m(\u001b[0m\u001b[0merror\u001b[0m\u001b[0;34m,\u001b[0m \u001b[0mURLError\u001b[0m\u001b[0;34m)\u001b[0m\u001b[0;34m:\u001b[0m\u001b[0;34m\u001b[0m\u001b[0m\n\u001b[1;32m    162\u001b[0m                 \u001b[0;32mif\u001b[0m \u001b[0;34m\"timed out\"\u001b[0m \u001b[0;32min\u001b[0m \u001b[0mmessage\u001b[0m\u001b[0;34m:\u001b[0m\u001b[0;34m\u001b[0m\u001b[0m\n", 
                        "\u001b[0;31mGeocoderServiceError\u001b[0m: HTTP Error 429: Too Many Requests"
                    ], 
                    "ename": "GeocoderServiceError"
                }
            ], 
            "execution_count": 30
        }, 
        {
            "source": "df.head(40)", 
            "cell_type": "code", 
            "metadata": {}, 
            "outputs": [
                {
                    "output_type": "execute_result", 
                    "data": {
                        "text/html": "<div>\n<style scoped>\n    .dataframe tbody tr th:only-of-type {\n        vertical-align: middle;\n    }\n\n    .dataframe tbody tr th {\n        vertical-align: top;\n    }\n\n    .dataframe thead th {\n        text-align: right;\n    }\n</style>\n<table border=\"1\" class=\"dataframe\">\n  <thead>\n    <tr style=\"text-align: right;\">\n      <th></th>\n      <th>Districts</th>\n      <th>Latitude</th>\n      <th>Longitude</th>\n    </tr>\n  </thead>\n  <tbody>\n    <tr>\n      <th>0</th>\n      <td>Sopot Centrum</td>\n      <td>default</td>\n      <td>default</td>\n    </tr>\n    <tr>\n      <th>1</th>\n      <td>Karlikowo</td>\n      <td>default</td>\n      <td>default</td>\n    </tr>\n    <tr>\n      <th>2</th>\n      <td>Kamienny Potok</td>\n      <td>default</td>\n      <td>default</td>\n    </tr>\n    <tr>\n      <th>3</th>\n      <td>Przylesie</td>\n      <td>default</td>\n      <td>default</td>\n    </tr>\n    <tr>\n      <th>4</th>\n      <td>Dolny Sopot Grunwaldzka</td>\n      <td>default</td>\n      <td>default</td>\n    </tr>\n    <tr>\n      <th>5</th>\n      <td>Dolny Sopot Haffnera</td>\n      <td>default</td>\n      <td>default</td>\n    </tr>\n    <tr>\n      <th>6</th>\n      <td>Lisie Wzg\u00f3rze</td>\n      <td>default</td>\n      <td>default</td>\n    </tr>\n    <tr>\n      <th>7</th>\n      <td>Zaj\u0119cze Wzg\u00f3rze</td>\n      <td>default</td>\n      <td>default</td>\n    </tr>\n    <tr>\n      <th>8</th>\n      <td>G\u00f3rny Sopot</td>\n      <td>default</td>\n      <td>default</td>\n    </tr>\n    <tr>\n      <th>9</th>\n      <td>Brodwino</td>\n      <td>default</td>\n      <td>default</td>\n    </tr>\n    <tr>\n      <th>10</th>\n      <td>Osiedle Mickiewicza</td>\n      <td>default</td>\n      <td>default</td>\n    </tr>\n    <tr>\n      <th>11</th>\n      <td>\u015awiemirowo</td>\n      <td>default</td>\n      <td>default</td>\n    </tr>\n    <tr>\n      <th>12</th>\n      <td>Stawowie</td>\n      <td>default</td>\n      <td>default</td>\n    </tr>\n    <tr>\n      <th>13</th>\n      <td>Le\u015bna Polana\\Gr\u0119zowo</td>\n      <td>default</td>\n      <td>default</td>\n    </tr>\n    <tr>\n      <th>14</th>\n      <td>Centrum Po\u0142udnie \u2013 Ko\u015bciuszki</td>\n      <td>default</td>\n      <td>default</td>\n    </tr>\n    <tr>\n      <th>15</th>\n      <td>Sopocki Las</td>\n      <td>default</td>\n      <td>default</td>\n    </tr>\n    <tr>\n      <th>16</th>\n      <td>Osowa</td>\n      <td>default</td>\n      <td>default</td>\n    </tr>\n    <tr>\n      <th>17</th>\n      <td>Oliwa</td>\n      <td>default</td>\n      <td>default</td>\n    </tr>\n    <tr>\n      <th>18</th>\n      <td>\u017babianka, Jelitkowo</td>\n      <td>default</td>\n      <td>default</td>\n    </tr>\n    <tr>\n      <th>19</th>\n      <td>Przymorze Ma\u0142e</td>\n      <td>default</td>\n      <td>default</td>\n    </tr>\n    <tr>\n      <th>20</th>\n      <td>Przymorze Wielkie</td>\n      <td>default</td>\n      <td>default</td>\n    </tr>\n    <tr>\n      <th>21</th>\n      <td>VII Dw\u00f3r</td>\n      <td>default</td>\n      <td>default</td>\n    </tr>\n    <tr>\n      <th>22</th>\n      <td>Strzy\u017ca</td>\n      <td>default</td>\n      <td>default</td>\n    </tr>\n    <tr>\n      <th>23</th>\n      <td>Zaspa-M\u0142yniec</td>\n      <td>default</td>\n      <td>default</td>\n    </tr>\n    <tr>\n      <th>24</th>\n      <td>Zaspa-Rozstaje</td>\n      <td>default</td>\n      <td>default</td>\n    </tr>\n    <tr>\n      <th>25</th>\n      <td>Brze\u017ano</td>\n      <td>default</td>\n      <td>default</td>\n    </tr>\n    <tr>\n      <th>26</th>\n      <td>Matarnia</td>\n      <td>default</td>\n      <td>default</td>\n    </tr>\n    <tr>\n      <th>27</th>\n      <td>Br\u0119towo</td>\n      <td>default</td>\n      <td>default</td>\n    </tr>\n    <tr>\n      <th>28</th>\n      <td>Wrzeszcz Dolny</td>\n      <td>default</td>\n      <td>default</td>\n    </tr>\n    <tr>\n      <th>29</th>\n      <td>Wrzeszcz G\u00f3rny</td>\n      <td>default</td>\n      <td>default</td>\n    </tr>\n    <tr>\n      <th>30</th>\n      <td>Letnica</td>\n      <td>default</td>\n      <td>default</td>\n    </tr>\n    <tr>\n      <th>31</th>\n      <td>Nowy Port</td>\n      <td>default</td>\n      <td>default</td>\n    </tr>\n    <tr>\n      <th>32</th>\n      <td>Piecki-Migowo</td>\n      <td>default</td>\n      <td>default</td>\n    </tr>\n    <tr>\n      <th>33</th>\n      <td>Suchanino</td>\n      <td>default</td>\n      <td>default</td>\n    </tr>\n    <tr>\n      <th>34</th>\n      <td>Siedlce</td>\n      <td>default</td>\n      <td>default</td>\n    </tr>\n    <tr>\n      <th>35</th>\n      <td>Wzg\u00f3rze Mickiewicza</td>\n      <td>default</td>\n      <td>default</td>\n    </tr>\n    <tr>\n      <th>36</th>\n      <td>Anio\u0142ki</td>\n      <td>default</td>\n      <td>default</td>\n    </tr>\n    <tr>\n      <th>37</th>\n      <td>M\u0142yniska</td>\n      <td>default</td>\n      <td>default</td>\n    </tr>\n    <tr>\n      <th>38</th>\n      <td>Stogi</td>\n      <td>default</td>\n      <td>default</td>\n    </tr>\n    <tr>\n      <th>39</th>\n      <td>Przer\u00f3bk\u0105</td>\n      <td>default</td>\n      <td>default</td>\n    </tr>\n  </tbody>\n</table>\n</div>", 
                        "text/plain": "                        Districts Latitude Longitude\n0                   Sopot Centrum  default   default\n1                       Karlikowo  default   default\n2                  Kamienny Potok  default   default\n3                       Przylesie  default   default\n4         Dolny Sopot Grunwaldzka  default   default\n5            Dolny Sopot Haffnera  default   default\n6                   Lisie Wzg\u00f3rze  default   default\n7                 Zaj\u0119cze Wzg\u00f3rze  default   default\n8                     G\u00f3rny Sopot  default   default\n9                        Brodwino  default   default\n10            Osiedle Mickiewicza  default   default\n11                     \u015awiemirowo  default   default\n12                       Stawowie  default   default\n13           Le\u015bna Polana\\Gr\u0119zowo  default   default\n14  Centrum Po\u0142udnie \u2013 Ko\u015bciuszki  default   default\n15                    Sopocki Las  default   default\n16                          Osowa  default   default\n17                          Oliwa  default   default\n18            \u017babianka, Jelitkowo  default   default\n19                 Przymorze Ma\u0142e  default   default\n20              Przymorze Wielkie  default   default\n21                       VII Dw\u00f3r  default   default\n22                        Strzy\u017ca  default   default\n23                  Zaspa-M\u0142yniec  default   default\n24                 Zaspa-Rozstaje  default   default\n25                        Brze\u017ano  default   default\n26                       Matarnia  default   default\n27                        Br\u0119towo  default   default\n28                 Wrzeszcz Dolny  default   default\n29                 Wrzeszcz G\u00f3rny  default   default\n30                        Letnica  default   default\n31                      Nowy Port  default   default\n32                  Piecki-Migowo  default   default\n33                      Suchanino  default   default\n34                        Siedlce  default   default\n35            Wzg\u00f3rze Mickiewicza  default   default\n36                        Anio\u0142ki  default   default\n37                       M\u0142yniska  default   default\n38                          Stogi  default   default\n39                      Przer\u00f3bk\u0105  default   default"
                    }, 
                    "execution_count": 31, 
                    "metadata": {}
                }
            ], 
            "execution_count": 31
        }, 
        {
            "source": "", 
            "cell_type": "code", 
            "metadata": {}, 
            "outputs": [], 
            "execution_count": null
        }, 
        {
            "source": "", 
            "cell_type": "code", 
            "metadata": {}, 
            "outputs": [], 
            "execution_count": null
        }, 
        {
            "source": "", 
            "cell_type": "code", 
            "metadata": {}, 
            "outputs": [], 
            "execution_count": null
        }
    ], 
    "metadata": {
        "kernelspec": {
            "display_name": "Python 3.5", 
            "name": "python3", 
            "language": "python"
        }, 
        "language_info": {
            "mimetype": "text/x-python", 
            "nbconvert_exporter": "python", 
            "version": "3.5.5", 
            "name": "python", 
            "file_extension": ".py", 
            "pygments_lexer": "ipython3", 
            "codemirror_mode": {
                "version": 3, 
                "name": "ipython"
            }
        }
    }, 
    "nbformat": 4
}